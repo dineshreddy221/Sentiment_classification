{
 "cells": [
  {
   "cell_type": "markdown",
   "id": "ff4f3624",
   "metadata": {},
   "source": [
    "## Sentiment Classification on movie reviews"
   ]
  },
  {
   "cell_type": "markdown",
   "id": "87880f51",
   "metadata": {},
   "source": [
    "### Data Description<br>\n",
    "<li><b>Review - </b> Raw data of IMDd Movie review.</li>\n",
    "<li><b>Sentiment - </b> Sentiment of movie review (positive or negative)</li>"
   ]
  },
  {
   "cell_type": "code",
   "execution_count": 66,
   "id": "8f7a47e3",
   "metadata": {},
   "outputs": [],
   "source": [
    "# Importing the required libraries\n",
    "import pandas as pd\n",
    "import numpy as np"
   ]
  },
  {
   "cell_type": "markdown",
   "id": "bddf8387",
   "metadata": {},
   "source": [
    "### Loading the dataset "
   ]
  },
  {
   "cell_type": "code",
   "execution_count": 67,
   "id": "9185b3df",
   "metadata": {
    "scrolled": true
   },
   "outputs": [
    {
     "data": {
      "text/html": [
       "<div>\n",
       "<style scoped>\n",
       "    .dataframe tbody tr th:only-of-type {\n",
       "        vertical-align: middle;\n",
       "    }\n",
       "\n",
       "    .dataframe tbody tr th {\n",
       "        vertical-align: top;\n",
       "    }\n",
       "\n",
       "    .dataframe thead th {\n",
       "        text-align: right;\n",
       "    }\n",
       "</style>\n",
       "<table border=\"1\" class=\"dataframe\">\n",
       "  <thead>\n",
       "    <tr style=\"text-align: right;\">\n",
       "      <th></th>\n",
       "      <th>review</th>\n",
       "      <th>sentiment</th>\n",
       "    </tr>\n",
       "  </thead>\n",
       "  <tbody>\n",
       "    <tr>\n",
       "      <th>0</th>\n",
       "      <td>One of the other reviewers has mentioned that ...</td>\n",
       "      <td>positive</td>\n",
       "    </tr>\n",
       "    <tr>\n",
       "      <th>1</th>\n",
       "      <td>A wonderful little production. &lt;br /&gt;&lt;br /&gt;The...</td>\n",
       "      <td>positive</td>\n",
       "    </tr>\n",
       "    <tr>\n",
       "      <th>2</th>\n",
       "      <td>I thought this was a wonderful way to spend ti...</td>\n",
       "      <td>positive</td>\n",
       "    </tr>\n",
       "    <tr>\n",
       "      <th>3</th>\n",
       "      <td>Basically there's a family where a little boy ...</td>\n",
       "      <td>negative</td>\n",
       "    </tr>\n",
       "    <tr>\n",
       "      <th>4</th>\n",
       "      <td>Petter Mattei's \"Love in the Time of Money\" is...</td>\n",
       "      <td>positive</td>\n",
       "    </tr>\n",
       "  </tbody>\n",
       "</table>\n",
       "</div>"
      ],
      "text/plain": [
       "                                              review sentiment\n",
       "0  One of the other reviewers has mentioned that ...  positive\n",
       "1  A wonderful little production. <br /><br />The...  positive\n",
       "2  I thought this was a wonderful way to spend ti...  positive\n",
       "3  Basically there's a family where a little boy ...  negative\n",
       "4  Petter Mattei's \"Love in the Time of Money\" is...  positive"
      ]
     },
     "execution_count": 67,
     "metadata": {},
     "output_type": "execute_result"
    }
   ],
   "source": [
    "movie_review = pd.read_csv(r\"c:IMDB_Dataset.csv\")\n",
    "movie_review.head()"
   ]
  },
  {
   "cell_type": "code",
   "execution_count": 68,
   "id": "165ef0c8",
   "metadata": {},
   "outputs": [
    {
     "data": {
      "text/html": [
       "<div>\n",
       "<style scoped>\n",
       "    .dataframe tbody tr th:only-of-type {\n",
       "        vertical-align: middle;\n",
       "    }\n",
       "\n",
       "    .dataframe tbody tr th {\n",
       "        vertical-align: top;\n",
       "    }\n",
       "\n",
       "    .dataframe thead th {\n",
       "        text-align: right;\n",
       "    }\n",
       "</style>\n",
       "<table border=\"1\" class=\"dataframe\">\n",
       "  <thead>\n",
       "    <tr style=\"text-align: right;\">\n",
       "      <th></th>\n",
       "      <th>review</th>\n",
       "      <th>sentiment</th>\n",
       "    </tr>\n",
       "  </thead>\n",
       "  <tbody>\n",
       "    <tr>\n",
       "      <th>count</th>\n",
       "      <td>50000</td>\n",
       "      <td>50000</td>\n",
       "    </tr>\n",
       "    <tr>\n",
       "      <th>unique</th>\n",
       "      <td>49582</td>\n",
       "      <td>2</td>\n",
       "    </tr>\n",
       "    <tr>\n",
       "      <th>top</th>\n",
       "      <td>Loved today's show!!! It was a variety and not...</td>\n",
       "      <td>positive</td>\n",
       "    </tr>\n",
       "    <tr>\n",
       "      <th>freq</th>\n",
       "      <td>5</td>\n",
       "      <td>25000</td>\n",
       "    </tr>\n",
       "  </tbody>\n",
       "</table>\n",
       "</div>"
      ],
      "text/plain": [
       "                                                   review sentiment\n",
       "count                                               50000     50000\n",
       "unique                                              49582         2\n",
       "top     Loved today's show!!! It was a variety and not...  positive\n",
       "freq                                                    5     25000"
      ]
     },
     "execution_count": 68,
     "metadata": {},
     "output_type": "execute_result"
    }
   ],
   "source": [
    "# checking the descriptive statistics\n",
    "movie_review.describe()"
   ]
  },
  {
   "cell_type": "markdown",
   "id": "0c39259d",
   "metadata": {},
   "source": [
    "### Data Preprocessing"
   ]
  },
  {
   "cell_type": "code",
   "execution_count": 69,
   "id": "9b542822",
   "metadata": {},
   "outputs": [
    {
     "data": {
      "text/plain": [
       "'A wonderful little production. <br /><br />The filming technique is very unassuming- very old-time-BBC fashion and gives a comforting, and sometimes discomforting, sense of realism to the entire piece. <br /><br />The actors are extremely well chosen- Michael Sheen not only \"has got all the polari\" but he has all the voices down pat too! You can truly see the seamless editing guided by the references to Williams\\' diary entries, not only is it well worth the watching but it is a terrificly written and performed piece. A masterful production about one of the great master\\'s of comedy and his life. <br /><br />The realism really comes home with the little things: the fantasy of the guard which, rather than use the traditional \\'dream\\' techniques remains solid then disappears. It plays on our knowledge and our senses, particularly with the scenes concerning Orton and Halliwell and the sets (particularly of their flat with Halliwell\\'s murals decorating every surface) are terribly well done.'"
      ]
     },
     "execution_count": 69,
     "metadata": {},
     "output_type": "execute_result"
    }
   ],
   "source": [
    "# data cleaning\n",
    "movie_review['review'][1]"
   ]
  },
  {
   "cell_type": "code",
   "execution_count": 70,
   "id": "792b4574",
   "metadata": {},
   "outputs": [],
   "source": [
    "# converting the text to lowercase\n",
    "def convert_to_lowercase(text):\n",
    "    return text.lower()\n",
    "\n",
    "movie_review['review_text'] = movie_review['review'].apply(lambda char: convert_to_lowercase(char))"
   ]
  },
  {
   "cell_type": "code",
   "execution_count": 71,
   "id": "89a624f6",
   "metadata": {},
   "outputs": [],
   "source": [
    "import re\n",
    "\n",
    "# defining function to remove tags from text\n",
    "def remove_br_tags(text):\n",
    "    # Define pattern to match \"<br /><br />\" combinedly\n",
    "    pattern = r'<br\\s*/?><br\\s*/?>'\n",
    "    # Remove \"<br /><br />\" using regex\n",
    "    cleaned_text = re.sub(pattern, ' ', text)\n",
    "    return cleaned_text\n",
    "\n",
    "# applying that function in dataset and creating new column\n",
    "movie_review['review_text'] = movie_review['review_text'].apply(lambda br_tag: remove_br_tags(br_tag))"
   ]
  },
  {
   "cell_type": "code",
   "execution_count": 72,
   "id": "a725820a",
   "metadata": {},
   "outputs": [],
   "source": [
    "import re\n",
    "\n",
    "# removing the special characters from review text\n",
    "def remove_special_characters(text):\n",
    "    # Define pattern to match special characters and punctuation\n",
    "    pattern = r'[^a-zA-z0-9\\s]'\n",
    "    # Remove special characters using regex\n",
    "    text = re.sub(pattern, '', text)\n",
    "    return text\n",
    "\n",
    "movie_review['review_text'] = movie_review['review_text'].apply(lambda spl_char: remove_special_characters(spl_char))"
   ]
  },
  {
   "cell_type": "code",
   "execution_count": 73,
   "id": "5dd1f8a7",
   "metadata": {},
   "outputs": [],
   "source": [
    "# Removing the un-necessary white spaces from the text\n",
    "def remove_extra_whitespace(text):\n",
    "    # Remove extra whitespace using regex\n",
    "    text = re.sub(' +', ' ', text)\n",
    "    return text.strip()\n",
    "\n",
    "movie_review['review_text'] = movie_review['review_text'].apply(lambda extra_space: remove_extra_whitespace(extra_space))"
   ]
  },
  {
   "cell_type": "code",
   "execution_count": 74,
   "id": "17ef0bca",
   "metadata": {},
   "outputs": [],
   "source": [
    "# Removing the numbers from the review\n",
    "def remove_numbers(text):\n",
    "    # Define pattern to match numbers\n",
    "    pattern = r'\\d+'\n",
    "    # Remove numbers using regex\n",
    "    text = re.sub(pattern, '', text)\n",
    "    return text\n",
    "\n",
    "movie_review['review_text'] = movie_review['review_text'].apply(lambda remv_num: remove_numbers(remv_num))"
   ]
  },
  {
   "cell_type": "code",
   "execution_count": 75,
   "id": "0037d215",
   "metadata": {},
   "outputs": [
    {
     "name": "stderr",
     "output_type": "stream",
     "text": [
      "[nltk_data] Downloading package stopwords to\n",
      "[nltk_data]     C:\\Users\\dines\\AppData\\Roaming\\nltk_data...\n",
      "[nltk_data]   Package stopwords is already up-to-date!\n"
     ]
    }
   ],
   "source": [
    "import nltk\n",
    "from nltk.corpus import stopwords\n",
    "\n",
    "# downloading stopwords to remove from the review text\n",
    "nltk.download('stopwords')\n",
    "stop_words = set(stopwords.words('english'))\n",
    "\n",
    "# defining to remove stopwords which doesn't carry any meaning.\n",
    "def remove_stopwords(text):\n",
    "    # Tokenize text\n",
    "    tokens = text.split()\n",
    "    # Remove stopwords\n",
    "    filtered_tokens = [word for word in tokens if word not in stop_words]\n",
    "    # Reconstruct text\n",
    "    filtered_text = ' '.join(filtered_tokens)\n",
    "    return filtered_text\n",
    "\n",
    "movie_review['review_text'] = movie_review['review_text'].apply(lambda remv_stpwrds: remove_stopwords(remv_stpwrds))"
   ]
  },
  {
   "cell_type": "code",
   "execution_count": 76,
   "id": "80d1416d",
   "metadata": {
    "scrolled": true
   },
   "outputs": [
    {
     "name": "stderr",
     "output_type": "stream",
     "text": [
      "[nltk_data] Downloading package wordnet to\n",
      "[nltk_data]     C:\\Users\\dines\\AppData\\Roaming\\nltk_data...\n",
      "[nltk_data]   Package wordnet is already up-to-date!\n"
     ]
    }
   ],
   "source": [
    "from nltk.stem import WordNetLemmatizer\n",
    "\n",
    "nltk.download('wordnet')\n",
    "lemmatizer = WordNetLemmatizer()\n",
    "\n",
    "# getting the commmon words from removing thier suffixes based on meaning of sentence.\n",
    "def lemmatize_text(text):\n",
    "    tokens = text.split()\n",
    "    lemmatized_tokens = [lemmatizer.lemmatize(token) for token in tokens]\n",
    "    lemmatized_text = ' '.join(lemmatized_tokens)\n",
    "    return lemmatized_text\n",
    "\n",
    "movie_review['review_text'] = movie_review['review_text'].apply(lambda lemm: lemmatize_text(lemm))"
   ]
  },
  {
   "cell_type": "code",
   "execution_count": 77,
   "id": "381e6882",
   "metadata": {},
   "outputs": [],
   "source": [
    "from sklearn.feature_extraction.text import TfidfVectorizer\n",
    "from sklearn.preprocessing import StandardScaler\n",
    "import scipy.sparse as sp\n",
    "\n",
    "# Feature Extraction - TF-IDF\n",
    "tfidf_vectorizer = TfidfVectorizer()\n",
    "preprocessed_reviews = movie_review['review_text'].values\n",
    "\n",
    "# fit the preprocess text to vectors\n",
    "tfidf_features = tfidf_vectorizer.fit(preprocessed_reviews)\n"
   ]
  },
  {
   "cell_type": "code",
   "execution_count": 78,
   "id": "de7e9302",
   "metadata": {},
   "outputs": [
    {
     "data": {
      "text/html": [
       "<style>#sk-container-id-3 {color: black;}#sk-container-id-3 pre{padding: 0;}#sk-container-id-3 div.sk-toggleable {background-color: white;}#sk-container-id-3 label.sk-toggleable__label {cursor: pointer;display: block;width: 100%;margin-bottom: 0;padding: 0.3em;box-sizing: border-box;text-align: center;}#sk-container-id-3 label.sk-toggleable__label-arrow:before {content: \"▸\";float: left;margin-right: 0.25em;color: #696969;}#sk-container-id-3 label.sk-toggleable__label-arrow:hover:before {color: black;}#sk-container-id-3 div.sk-estimator:hover label.sk-toggleable__label-arrow:before {color: black;}#sk-container-id-3 div.sk-toggleable__content {max-height: 0;max-width: 0;overflow: hidden;text-align: left;background-color: #f0f8ff;}#sk-container-id-3 div.sk-toggleable__content pre {margin: 0.2em;color: black;border-radius: 0.25em;background-color: #f0f8ff;}#sk-container-id-3 input.sk-toggleable__control:checked~div.sk-toggleable__content {max-height: 200px;max-width: 100%;overflow: auto;}#sk-container-id-3 input.sk-toggleable__control:checked~label.sk-toggleable__label-arrow:before {content: \"▾\";}#sk-container-id-3 div.sk-estimator input.sk-toggleable__control:checked~label.sk-toggleable__label {background-color: #d4ebff;}#sk-container-id-3 div.sk-label input.sk-toggleable__control:checked~label.sk-toggleable__label {background-color: #d4ebff;}#sk-container-id-3 input.sk-hidden--visually {border: 0;clip: rect(1px 1px 1px 1px);clip: rect(1px, 1px, 1px, 1px);height: 1px;margin: -1px;overflow: hidden;padding: 0;position: absolute;width: 1px;}#sk-container-id-3 div.sk-estimator {font-family: monospace;background-color: #f0f8ff;border: 1px dotted black;border-radius: 0.25em;box-sizing: border-box;margin-bottom: 0.5em;}#sk-container-id-3 div.sk-estimator:hover {background-color: #d4ebff;}#sk-container-id-3 div.sk-parallel-item::after {content: \"\";width: 100%;border-bottom: 1px solid gray;flex-grow: 1;}#sk-container-id-3 div.sk-label:hover label.sk-toggleable__label {background-color: #d4ebff;}#sk-container-id-3 div.sk-serial::before {content: \"\";position: absolute;border-left: 1px solid gray;box-sizing: border-box;top: 0;bottom: 0;left: 50%;z-index: 0;}#sk-container-id-3 div.sk-serial {display: flex;flex-direction: column;align-items: center;background-color: white;padding-right: 0.2em;padding-left: 0.2em;position: relative;}#sk-container-id-3 div.sk-item {position: relative;z-index: 1;}#sk-container-id-3 div.sk-parallel {display: flex;align-items: stretch;justify-content: center;background-color: white;position: relative;}#sk-container-id-3 div.sk-item::before, #sk-container-id-3 div.sk-parallel-item::before {content: \"\";position: absolute;border-left: 1px solid gray;box-sizing: border-box;top: 0;bottom: 0;left: 50%;z-index: -1;}#sk-container-id-3 div.sk-parallel-item {display: flex;flex-direction: column;z-index: 1;position: relative;background-color: white;}#sk-container-id-3 div.sk-parallel-item:first-child::after {align-self: flex-end;width: 50%;}#sk-container-id-3 div.sk-parallel-item:last-child::after {align-self: flex-start;width: 50%;}#sk-container-id-3 div.sk-parallel-item:only-child::after {width: 0;}#sk-container-id-3 div.sk-dashed-wrapped {border: 1px dashed gray;margin: 0 0.4em 0.5em 0.4em;box-sizing: border-box;padding-bottom: 0.4em;background-color: white;}#sk-container-id-3 div.sk-label label {font-family: monospace;font-weight: bold;display: inline-block;line-height: 1.2em;}#sk-container-id-3 div.sk-label-container {text-align: center;}#sk-container-id-3 div.sk-container {/* jupyter's `normalize.less` sets `[hidden] { display: none; }` but bootstrap.min.css set `[hidden] { display: none !important; }` so we also need the `!important` here to be able to override the default hidden behavior on the sphinx rendered scikit-learn.org. See: https://github.com/scikit-learn/scikit-learn/issues/21755 */display: inline-block !important;position: relative;}#sk-container-id-3 div.sk-text-repr-fallback {display: none;}</style><div id=\"sk-container-id-3\" class=\"sk-top-container\"><div class=\"sk-text-repr-fallback\"><pre>TfidfVectorizer()</pre><b>In a Jupyter environment, please rerun this cell to show the HTML representation or trust the notebook. <br />On GitHub, the HTML representation is unable to render, please try loading this page with nbviewer.org.</b></div><div class=\"sk-container\" hidden><div class=\"sk-item\"><div class=\"sk-estimator sk-toggleable\"><input class=\"sk-toggleable__control sk-hidden--visually\" id=\"sk-estimator-id-3\" type=\"checkbox\" checked><label for=\"sk-estimator-id-3\" class=\"sk-toggleable__label sk-toggleable__label-arrow\">TfidfVectorizer</label><div class=\"sk-toggleable__content\"><pre>TfidfVectorizer()</pre></div></div></div></div></div>"
      ],
      "text/plain": [
       "TfidfVectorizer()"
      ]
     },
     "execution_count": 78,
     "metadata": {},
     "output_type": "execute_result"
    }
   ],
   "source": [
    "tfidf_features"
   ]
  },
  {
   "cell_type": "markdown",
   "id": "3db88cba",
   "metadata": {},
   "source": [
    "### Model building"
   ]
  },
  {
   "cell_type": "code",
   "execution_count": 79,
   "id": "041f9ee4",
   "metadata": {},
   "outputs": [
    {
     "name": "stdout",
     "output_type": "stream",
     "text": [
      "(40000,) (40000,)\n",
      "(10000,) (10000,)\n"
     ]
    }
   ],
   "source": [
    "from sklearn.model_selection import train_test_split\n",
    "from sklearn.linear_model import LogisticRegression\n",
    "from sklearn.metrics import accuracy_score\n",
    "\n",
    "# separating the movie reviews and sentiments(target) column in different variables and splitting the data\n",
    "y = movie_review['sentiment'].values\n",
    "\n",
    "# Split the data into training and testing sets\n",
    "X_train, X_test, y_train, y_test = train_test_split(movie_review['review_text'].values, y, test_size=0.2, random_state=42)\n",
    "\n",
    "# checking the shape of data after splitting\n",
    "print(X_train.shape, y_train.shape)\n",
    "print(X_test.shape, y_test.shape)"
   ]
  },
  {
   "cell_type": "code",
   "execution_count": 80,
   "id": "693edbeb",
   "metadata": {},
   "outputs": [],
   "source": [
    "# Intializing the vectorizer and learns from train data. \n",
    "from sklearn.feature_extraction.text import TfidfVectorizer\n",
    "tfidf_vectors = TfidfVectorizer().fit(X_train)"
   ]
  },
  {
   "cell_type": "code",
   "execution_count": 81,
   "id": "5dae99ca",
   "metadata": {},
   "outputs": [],
   "source": [
    "# transform the train data by the pattern learned by the vecotized model\n",
    "X_train_vectorizer = tfidf_vectors.transform(X_train)"
   ]
  },
  {
   "cell_type": "code",
   "execution_count": 82,
   "id": "dca74909",
   "metadata": {},
   "outputs": [
    {
     "data": {
      "text/plain": [
       "(40000, 132567)"
      ]
     },
     "execution_count": 82,
     "metadata": {},
     "output_type": "execute_result"
    }
   ],
   "source": [
    "X_train_vectorizer.shape"
   ]
  },
  {
   "cell_type": "markdown",
   "id": "ff21aea6",
   "metadata": {},
   "source": [
    "### Logistic Regression"
   ]
  },
  {
   "cell_type": "code",
   "execution_count": 83,
   "id": "ba4b1dfc",
   "metadata": {},
   "outputs": [
    {
     "name": "stdout",
     "output_type": "stream",
     "text": [
      "Accuracy: 0.8958\n"
     ]
    }
   ],
   "source": [
    "# Initialize and train a logistic regression model\n",
    "model = LogisticRegression(max_iter=1000)  # Initialize the model (you can choose any other model)\n",
    "model.fit(X_train_vectorizer, y_train)  # Train the model on the training data\n",
    "\n",
    "# Predict on the testing set\n",
    "y_pred = model.predict(tfidf_vectors.transform(X_test))\n",
    "\n",
    "# Evaluate the model\n",
    "accuracy = accuracy_score(y_test, y_pred)\n",
    "print(\"Accuracy:\", accuracy)"
   ]
  },
  {
   "cell_type": "markdown",
   "id": "e32d5db7",
   "metadata": {},
   "source": [
    "#### Evaluating the model metrics and graphs"
   ]
  },
  {
   "cell_type": "code",
   "execution_count": 84,
   "id": "402aa828",
   "metadata": {
    "scrolled": false
   },
   "outputs": [
    {
     "data": {
      "image/png": "[encoded data removed]",
      "text/plain": [
       "<Figure size 800x600 with 2 Axes>"
      ]
     },
     "metadata": {},
     "output_type": "display_data"
    },
    {
     "name": "stdout",
     "output_type": "stream",
     "text": [
      "\n",
      "Classification Report:\n",
      "              precision    recall  f1-score   support\n",
      "\n",
      "    negative       0.91      0.88      0.89      4961\n",
      "    positive       0.89      0.91      0.90      5039\n",
      "\n",
      "    accuracy                           0.90     10000\n",
      "   macro avg       0.90      0.90      0.90     10000\n",
      "weighted avg       0.90      0.90      0.90     10000\n",
      "\n",
      "Precision Score: 0.8858853060436378\n",
      "Recall Score: 0.9104981147052986\n",
      "\n",
      "F1 Score: 0.898023096496379\n"
     ]
    }
   ],
   "source": [
    "import matplotlib.pyplot as plt\n",
    "import seaborn as sns\n",
    "from sklearn.metrics import confusion_matrix, classification_report, f1_score, precision_score, recall_score\n",
    "\n",
    "# Assuming y_test and y_pred are the true labels and predicted labels respectively\n",
    "\n",
    "# Confusion Matrix\n",
    "cm = confusion_matrix(y_test, y_pred)\n",
    "# Define class labels\n",
    "class_labels = ['positive', 'negative']\n",
    "\n",
    "# Plot confusion matrix using Seaborn heatmap\n",
    "plt.figure(figsize=(8, 6))\n",
    "sns.heatmap(cm, annot=True, cmap='Blues', fmt='g', xticklabels=class_labels, yticklabels=class_labels)\n",
    "plt.xlabel('Predicted')\n",
    "plt.ylabel('Actual')\n",
    "plt.title('Confusion Matrix')\n",
    "plt.show()\n",
    "\n",
    "# Classification Report\n",
    "cr = classification_report(y_test, y_pred)\n",
    "print(\"\\nClassification Report:\")\n",
    "print(cr)\n",
    "\n",
    "# Precision Score\n",
    "precision = precision_score(y_test, y_pred, pos_label='positive')\n",
    "print(\"Precision Score:\", precision)\n",
    "\n",
    "# Recall Score\n",
    "recall = recall_score(y_test, y_pred, pos_label='positive')\n",
    "print(\"Recall Score:\", recall)\n",
    "\n",
    "# F1 Score\n",
    "f1 = f1_score(y_test, y_pred, pos_label='positive')\n",
    "print(\"\\nF1 Score:\", f1)\n"
   ]
  },
  {
   "cell_type": "markdown",
   "id": "d41db2f5",
   "metadata": {},
   "source": [
    "### RandomForestClassifier"
   ]
  },
  {
   "cell_type": "code",
   "execution_count": 86,
   "id": "1c09f5ed",
   "metadata": {},
   "outputs": [],
   "source": [
    "from sklearn.ensemble import RandomForestClassifier \n",
    "from sklearn.metrics import accuracy_score\n",
    "\n",
    "# Initialize and train a logistic regression model\n",
    "rndm_model = RandomForestClassifier()  # Initialize the model (you can choose any other model)\n",
    "rndm_model.fit(X_train_vectorizer, y_train)  # Train the model on the training data\n",
    "\n",
    "# Predict on the testing set\n",
    "rndm_y_pred = rndm_model.predict(tfidf_vectors.transform(X_test))\n",
    "\n",
    "# Evaluate the model\n",
    "accuracy = accuracy_score(y_test, rndm_y_pred)\n",
    "print(\"Accuracy:\", accuracy)\n"
   ]
  },
  {
   "cell_type": "markdown",
   "id": "accf67c3",
   "metadata": {},
   "source": [
    "#### Evaluating the random forest classifier model metrics"
   ]
  },
  {
   "cell_type": "code",
   "execution_count": null,
   "id": "dcc4b4b5",
   "metadata": {},
   "outputs": [],
   "source": [
    "from sklearn.metrics import confusion_matrix, classification_report, f1_score, precision_score, recall_score\n",
    "\n",
    "# Assuming y_test and y_pred are the true labels and predicted labels respectively\n",
    "\n",
    "# Confusion Matrix\n",
    "cm = confusion_matrix(y_test, rndm_y_pred)\n",
    "# Define class labels\n",
    "class_labels = ['positive', 'negative']\n",
    "\n",
    "# Plot confusion matrix using Seaborn heatmap\n",
    "plt.figure(figsize=(8, 6))\n",
    "sns.heatmap(cm, annot=True, cmap='Blues', fmt='g', xticklabels=class_labels, yticklabels=class_labels)\n",
    "plt.xlabel('Predicted')\n",
    "plt.ylabel('Actual')\n",
    "plt.title('Confusion Matrix')\n",
    "plt.show()\n",
    "\n",
    "# Classification Report\n",
    "cr = classification_report(y_test, rndm_y_pred)\n",
    "print(\"\\nClassification Report:\")\n",
    "print(cr)\n",
    "\n",
    "# Precision Score\n",
    "precision = precision_score(y_test, rndm_y_pred, pos_label='positive')\n",
    "print(\"Precision Score:\", precision)\n",
    "\n",
    "# Recall Score\n",
    "recall = recall_score(y_test, rndm_y_pred, pos_label='positive')\n",
    "print(\"Recall Score:\", recall)\n",
    "\n",
    "# F1 Score\n",
    "f1 = f1_score(y_test, rndm_y_pred, pos_label='positive')\n",
    "print(\"\\nF1 Score:\", f1)\n"
   ]
  },
  {
   "cell_type": "markdown",
   "id": "43f75043",
   "metadata": {},
   "source": [
    "### Model Evaluation on unseen data"
   ]
  },
  {
   "cell_type": "code",
   "execution_count": 87,
   "id": "fbd39c16",
   "metadata": {},
   "outputs": [
    {
     "name": "stdout",
     "output_type": "stream",
     "text": [
      "very bad no proper vfx\n",
      "negative\n",
      "[0.84771815 0.15228185]\n"
     ]
    }
   ],
   "source": [
    "text_data = input()#['The movie is very bad and emotionally sad at the climax of the movie']\n",
    "print(model.predict(tfidf_vectors.transform([text_data]))[0])\n",
    "print(model.predict_proba(tfidf_vectors.transform([text_data]))[0])"
   ]
  },
  {
   "cell_type": "markdown",
   "id": "906f3d78",
   "metadata": {},
   "source": [
    "### Serializing the model and vectors to local file"
   ]
  },
  {
   "cell_type": "code",
   "execution_count": 88,
   "id": "6f3f47c3",
   "metadata": {},
   "outputs": [],
   "source": [
    "import pickle\n",
    "\n",
    "# Assuming 'model' is your trained machine learning model object\n",
    "# Dumping the model as a pickle file\n",
    "with open('imdb_sentiment_logistic.pkl', 'wb') as f:\n",
    "    pickle.dump(model,f)\n",
    "    \n",
    "with open('vectors_trained.pkl', 'wb') as file:\n",
    "    pickle.dump(tfidf_vectors,file)\n"
   ]
  },
  {
   "cell_type": "markdown",
   "id": "85f9a133",
   "metadata": {},
   "source": [
    "### Deserializing the model and vectors from local file "
   ]
  },
  {
   "cell_type": "code",
   "execution_count": 5,
   "id": "1933c30c",
   "metadata": {},
   "outputs": [],
   "source": [
    "import pickle\n",
    "with open('imdb_sentiment_logistic.pkl', 'rb') as f:\n",
    "    loaded_model = pickle.load(f)\n",
    "    \n",
    "with open('vectors_trained.pkl', 'rb') as file:\n",
    "    loaded_vectors = pickle.load(file)\n",
    "    "
   ]
  },
  {
   "cell_type": "markdown",
   "id": "ececbced",
   "metadata": {},
   "source": [
    "### Taking the movie review input from user to predict the sentiment"
   ]
  },
  {
   "cell_type": "code",
   "execution_count": 12,
   "id": "cd339cdc",
   "metadata": {},
   "outputs": [
    {
     "name": "stdout",
     "output_type": "stream",
     "text": [
      " Director M. Night Shyamalan delivers a convoluted and poorly executed storyline, filled with wooden performances and lackluster special effects. The film's pacing is sluggish, and crucial character development is sacrificed in favor of exposition-heavy dialogue. Fans of the original series will be left feeling betrayed by this lackluster adaptation, which squanders the potential for a compelling live-action interpretation.\n"
     ]
    }
   ],
   "source": [
    "# Movie review input\n",
    "X_new = input()"
   ]
  },
  {
   "cell_type": "markdown",
   "id": "708acfbf",
   "metadata": {},
   "source": [
    "### using the loaded model and vectors to predict the unseen user input"
   ]
  },
  {
   "cell_type": "code",
   "execution_count": 16,
   "id": "d052da61",
   "metadata": {
    "scrolled": true
   },
   "outputs": [
    {
     "name": "stdout",
     "output_type": "stream",
     "text": [
      "Sentiment of user input:  Negative\n",
      "Confidence score of movie review input:  [0.7894328 0.2105672]\n"
     ]
    }
   ],
   "source": [
    "# Checking the sentimnt of input\n",
    "print(\"Sentiment of user input: \",loaded_model.predict(loaded_vectors.transform([X_new]))[0].capitalize())\n",
    "\n",
    "# checking the confidence of sentiment from user input\n",
    "print(\"Confidence score of movie review input: \",loaded_model.predict_proba(loaded_vectors.transform([X_new]))[0])"
   ]
  },
  {
   "cell_type": "code",
   "execution_count": null,
   "id": "ee8c3fd5",
   "metadata": {},
   "outputs": [],
   "source": []
  }
 ],
 "metadata": {
  "kernelspec": {
   "display_name": "Python 3 (ipykernel)",
   "language": "python",
   "name": "python3"
  },
  "language_info": {
   "codemirror_mode": {
    "name": "ipython",
    "version": 3
   },
   "file_extension": ".py",
   "mimetype": "text/x-python",
   "name": "python",
   "nbconvert_exporter": "python",
   "pygments_lexer": "ipython3",
   "version": "3.11.4"
  }
 },
 "nbformat": 4,
 "nbformat_minor": 5
}
