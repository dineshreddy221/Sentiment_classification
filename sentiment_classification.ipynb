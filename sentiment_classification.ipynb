{
 "cells": [
  {
   "cell_type": "markdown",
   "id": "4648abc2",
   "metadata": {},
   "source": [
    "### Sentiment Classification on user input "
   ]
  },
  {
   "cell_type": "markdown",
   "id": "5fe36032",
   "metadata": {},
   "source": [
    "#### Importing the required libraries"
   ]
  },
  {
   "cell_type": "code",
   "execution_count": 1,
   "id": "984820f0",
   "metadata": {},
   "outputs": [
    {
     "name": "stderr",
     "output_type": "stream",
     "text": [
      "[nltk_data] Downloading package wordnet to\n",
      "[nltk_data]     C:\\Users\\dines\\AppData\\Roaming\\nltk_data...\n",
      "[nltk_data]   Package wordnet is already up-to-date!\n",
      "[nltk_data] Downloading package stopwords to\n",
      "[nltk_data]     C:\\Users\\dines\\AppData\\Roaming\\nltk_data...\n",
      "[nltk_data]   Package stopwords is already up-to-date!\n"
     ]
    },
    {
     "data": {
      "text/plain": [
       "True"
      ]
     },
     "execution_count": 1,
     "metadata": {},
     "output_type": "execute_result"
    }
   ],
   "source": [
    "import re\n",
    "import nltk\n",
    "import pandas as pd\n",
    "import numpy as np\n",
    "from nltk.corpus import stopwords\n",
    "from nltk.stem import WordNetLemmatizer\n",
    "from sklearn.base import BaseEstimator, TransformerMixin\n",
    "\n",
    "# Download NLTK resources if not already downloaded\n",
    "nltk.download('wordnet')\n",
    "nltk.download('stopwords')"
   ]
  },
  {
   "cell_type": "markdown",
   "id": "393595bd",
   "metadata": {},
   "source": [
    "### Defining a class to preprocess the raw review text to clean"
   ]
  },
  {
   "cell_type": "code",
   "execution_count": 2,
   "id": "2faf8160",
   "metadata": {},
   "outputs": [],
   "source": [
    "class TextPreprocessor(BaseEstimator, TransformerMixin):\n",
    "    def __init__(self):\n",
    "        self.lemmatizer = WordNetLemmatizer()\n",
    "        self.stop_words = set(stopwords.words('english'))\n",
    "\n",
    "    def _preprocess_text(self, text):\n",
    "        text = self._convert_to_lowercase(text)\n",
    "        text = self._remove_br_tags(text)\n",
    "        text = self._remove_special_characters(text)\n",
    "        text = self._remove_extra_whitespace(text)\n",
    "        text = self._remove_numbers(text)\n",
    "        text = self._remove_stopwords(text)\n",
    "        text = self._lemmatize_text(text)\n",
    "        return text\n",
    "\n",
    "    def _convert_to_lowercase(self, text):\n",
    "        return text.lower()\n",
    "\n",
    "    def _remove_br_tags(self, text):\n",
    "        pattern = r'<br\\s*/?><br\\s*/?>'\n",
    "        return re.sub(pattern, ' ', text)\n",
    "\n",
    "    def _remove_special_characters(self, text):\n",
    "        pattern = r'[^a-zA-z0-9\\s]'\n",
    "        return re.sub(pattern, '', text)\n",
    "\n",
    "    def _remove_extra_whitespace(self, text):\n",
    "        return re.sub(' +', ' ', text).strip()\n",
    "\n",
    "    def _remove_numbers(self, text):\n",
    "        pattern = r'\\d+'\n",
    "        return re.sub(pattern, '', text)\n",
    "\n",
    "    def _remove_stopwords(self, text):\n",
    "        tokens = text.split()\n",
    "        filtered_tokens = [word for word in tokens if word not in self.stop_words]\n",
    "        return ' '.join(filtered_tokens)\n",
    "\n",
    "    def _lemmatize_text(self, text):\n",
    "        tokens = text.split()\n",
    "        lemmatized_tokens = [self.lemmatizer.lemmatize(token) for token in tokens]\n",
    "        return ' '.join(lemmatized_tokens)\n",
    "    \n",
    "    "
   ]
  },
  {
   "cell_type": "markdown",
   "id": "31682091",
   "metadata": {},
   "source": [
    "### Taking the input from user"
   ]
  },
  {
   "cell_type": "code",
   "execution_count": 14,
   "id": "c65c7eb5",
   "metadata": {},
   "outputs": [
    {
     "name": "stdout",
     "output_type": "stream",
     "text": [
      "\"I recently watched a movie called 'The Last Laugh'. I have to say, it was absolutely terrible. The acting was wooden, the plot was nonsensical, and I found myself checking my watch every few minutes, hoping it would end soon. Overall, I would not recommend this movie to anyone.\"\n"
     ]
    },
    {
     "data": {
      "text/plain": [
       "'recently watched movie called last laugh say absolutely terrible acting wooden plot nonsensical found checking watch every minute hoping would end soon overall would recommend movie anyone'"
      ]
     },
     "execution_count": 14,
     "metadata": {},
     "output_type": "execute_result"
    }
   ],
   "source": [
    "text = str(input())\n",
    "text_pro = TextPreprocessor()\n",
    "cln_text = text_pro._preprocess_text(text)\n",
    "cln_text"
   ]
  },
  {
   "cell_type": "markdown",
   "id": "df16a70a",
   "metadata": {},
   "source": [
    "### Serializing the loaded model and vectors"
   ]
  },
  {
   "cell_type": "code",
   "execution_count": 4,
   "id": "64e92797",
   "metadata": {},
   "outputs": [],
   "source": [
    "import pickle\n",
    "with open(\"imdb_sentiment_logistic.pkl\", \"rb\") as f:\n",
    "    model = pickle.load(f)\n",
    "    \n",
    "with open(\"vectors_trained.pkl\", \"rb\") as file:\n",
    "    vectors_loaded = pickle.load(file)"
   ]
  },
  {
   "cell_type": "code",
   "execution_count": 15,
   "id": "57aad505",
   "metadata": {},
   "outputs": [],
   "source": [
    "result = model.predict(vectors_loaded.transform([cln_text]))[0].capitalize()"
   ]
  },
  {
   "cell_type": "code",
   "execution_count": 16,
   "id": "7f8cc6ee",
   "metadata": {},
   "outputs": [
    {
     "name": "stdout",
     "output_type": "stream",
     "text": [
      "Negative\n"
     ]
    }
   ],
   "source": [
    "print(result)"
   ]
  },
  {
   "cell_type": "code",
   "execution_count": null,
   "id": "ac525833",
   "metadata": {},
   "outputs": [],
   "source": []
  }
 ],
 "metadata": {
  "kernelspec": {
   "display_name": "Python 3 (ipykernel)",
   "language": "python",
   "name": "python3"
  },
  "language_info": {
   "codemirror_mode": {
    "name": "ipython",
    "version": 3
   },
   "file_extension": ".py",
   "mimetype": "text/x-python",
   "name": "python",
   "nbconvert_exporter": "python",
   "pygments_lexer": "ipython3",
   "version": "3.11.4"
  }
 },
 "nbformat": 4,
 "nbformat_minor": 5
}
